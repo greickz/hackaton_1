{
 "cells": [
  {
   "cell_type": "code",
   "execution_count": null,
   "metadata": {},
   "outputs": [],
   "source": [
    "df.to_excel('equipamentos_tratado.xlsx', index=False)"
   ]
  },
  {
   "cell_type": "code",
   "execution_count": null,
   "metadata": {},
   "outputs": [],
   "source": [
    "import pandas as pd\n",
    "\n",
    "df = pd.read_excel('equipamentos.xlsx')\n",
    "df"
   ]
  },
  {
   "cell_type": "code",
   "execution_count": null,
   "metadata": {},
   "outputs": [],
   "source": [
    "df[\"Data_manutencao\"] = pd.to_datetime(df[\"Data_manutencao\"], unit=\"ms\").dt.strftime(\"%d/%m/%Y\")\n",
    "df"
   ]
  },
  {
   "cell_type": "code",
   "execution_count": null,
   "metadata": {},
   "outputs": [],
   "source": [
    "df.to_excel('equipamentos_tratado.xlsx', index=False)"
   ]
  },
  {
   "cell_type": "code",
   "execution_count": null,
   "metadata": {},
   "outputs": [],
   "source": [
    "df.to_excel('equipamentos_tratado.xlsx', index=False)"
   ]
  },
  {
   "cell_type": "code",
   "execution_count": 22,
   "metadata": {},
   "outputs": [
    {
     "data": {
      "text/plain": [
       "1     Manutenção\n",
       "2     Manutenção\n",
       "7     Manutenção\n",
       "10    Manutenção\n",
       "12    Manutenção\n",
       "16    Manutenção\n",
       "19    Manutenção\n",
       "23    Manutenção\n",
       "24    Manutenção\n",
       "25    Manutenção\n",
       "26    Manutenção\n",
       "27    Manutenção\n",
       "28    Manutenção\n",
       "30    Manutenção\n",
       "31    Manutenção\n",
       "34    Manutenção\n",
       "35    Manutenção\n",
       "36    Manutenção\n",
       "38    Manutenção\n",
       "40    Manutenção\n",
       "41    Manutenção\n",
       "44    Manutenção\n",
       "45    Manutenção\n",
       "46    Manutenção\n",
       "47    Manutenção\n",
       "49    Manutenção\n",
       "Name: Status_atual, dtype: object"
      ]
     },
     "execution_count": 22,
     "metadata": {},
     "output_type": "execute_result"
    }
   ],
   "source": [
    "df_manutencao = df['Status_atual'][df['Status_atual']== 'Manutenção']\n",
    "df_manutencao"
   ]
  },
  {
   "cell_type": "code",
   "execution_count": 26,
   "metadata": {},
   "outputs": [
    {
     "data": {
      "text/plain": [
       "4     Parado\n",
       "5     Parado\n",
       "8     Parado\n",
       "9     Parado\n",
       "20    Parado\n",
       "21    Parado\n",
       "22    Parado\n",
       "33    Parado\n",
       "48    Parado\n",
       "Name: Status_atual, dtype: object"
      ]
     },
     "execution_count": 26,
     "metadata": {},
     "output_type": "execute_result"
    }
   ],
   "source": [
    "df_parado = df['Status_atual'][df['Status_atual']== 'Parado']\n",
    "df_parado"
   ]
  }
 ],
 "metadata": {
  "kernelspec": {
   "display_name": "Python 3",
   "language": "python",
   "name": "python3"
  },
  "language_info": {
   "codemirror_mode": {
    "name": "ipython",
    "version": 3
   },
   "file_extension": ".py",
   "mimetype": "text/x-python",
   "name": "python",
   "nbconvert_exporter": "python",
   "pygments_lexer": "ipython3",
   "version": "3.12.1"
  }
 },
 "nbformat": 4,
 "nbformat_minor": 2
}
